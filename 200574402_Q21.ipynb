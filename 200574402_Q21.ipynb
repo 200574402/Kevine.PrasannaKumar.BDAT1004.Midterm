{
 "cells": [
  {
   "cell_type": "code",
   "execution_count": 10,
   "metadata": {},
   "outputs": [
    {
     "name": "stdout",
     "output_type": "stream",
     "text": [
      "5.0\n",
      "0.75\n"
     ]
    }
   ],
   "source": [
    "import math\n",
    "\n",
    "class Point:\n",
    "    def __init__(self,x=0,y=0):\n",
    "        self.x=x\n",
    "        self.y=y\n",
    "\n",
    "class Segment:\n",
    "    def __init__(self,p1,p2):\n",
    "        self.p1=p1\n",
    "        self.p2=p2\n",
    "\n",
    "    def length(self):\n",
    "        dx=self.p2.x-self.p1.x\n",
    "        dy=self.p2.y-self.p1.y\n",
    "        return math.sqrt(dx**2+dy**2)\n",
    "\n",
    "    def slope(self):\n",
    "        dx=self.p2.x-self.p1.x\n",
    "        dy=self.p2.y-self.p1.y\n",
    "\n",
    "        if dx==0:\n",
    "            return None  # The slope is unbounded\n",
    "        return dx/dy\n",
    "\n",
    "# Usage\n",
    "p1 = Point(3,4)\n",
    "p2 = Point()\n",
    "s = Segment(p1,p2)\n",
    "\n",
    "print(s.length())\n",
    "print(s.slope())"
   ]
  }
 ],
 "metadata": {
  "kernelspec": {
   "display_name": "Python 3",
   "language": "python",
   "name": "python3"
  },
  "language_info": {
   "codemirror_mode": {
    "name": "ipython",
    "version": 3
   },
   "file_extension": ".py",
   "mimetype": "text/x-python",
   "name": "python",
   "nbconvert_exporter": "python",
   "pygments_lexer": "ipython3",
   "version": "3.9.13"
  },
  "orig_nbformat": 4
 },
 "nbformat": 4,
 "nbformat_minor": 2
}
