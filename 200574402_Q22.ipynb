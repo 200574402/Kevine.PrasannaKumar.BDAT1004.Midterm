{
 "cells": [
  {
   "cell_type": "code",
   "execution_count": 17,
   "metadata": {},
   "outputs": [
    {
     "name": "stdout",
     "output_type": "stream",
     "text": [
      "(2,)\n",
      "(4,)\n"
     ]
    }
   ],
   "source": [
    "import sqlite3\n",
    "\n",
    "conn=sqlite3.connect('200574402_Midterm_Q22.db')  \n",
    "cursor=conn.cursor()\n",
    "\n",
    "creating_table= 'CREATE TABLE Weather_Table('\\\n",
    "                    'id INT PRIMARY KEY,'\\\n",
    "                    'recordDate DATE,'\\\n",
    "                    'temperature INT'\\\n",
    "                    ');'\n",
    "\n",
    "insert_query=[\n",
    "    \"INSERT INTO Weather_Table VALUES (1,'2015-01-01',10);\",\n",
    "    \"INSERT INTO Weather_Table VALUES (2,'2015-01-02',25);\",\n",
    "    \"INSERT INTO Weather_Table VALUES (3,'2015-01-03',20);\",\n",
    "    \"INSERT INTO Weather_Table VALUES (4,'2015-01-04',30);\"\n",
    "]\n",
    "\n",
    "selecting=  'SELECT copy1.id ' \\\n",
    "               'FROM Weather_Table copy1 ' \\\n",
    "               'JOIN Weather_Table copy2 ON copy1.id = copy2.id + 1 ' \\\n",
    "               'WHERE copy1.temperature > copy2.temperature;'\n",
    "\n",
    "cursor.executescript(creating_table)\n",
    "for inserting in insert_query:\n",
    "    cursor.execute(inserting)\n",
    "\n",
    "cursor.execute(selecting)\n",
    "ouput = cursor.fetchall()\n",
    "\n",
    "for rows in ouput:\n",
    "    print(rows)\n",
    "\n",
    "conn.commit()\n",
    "conn.close()"
   ]
  }
 ],
 "metadata": {
  "kernelspec": {
   "display_name": "Python 3",
   "language": "python",
   "name": "python3"
  },
  "language_info": {
   "codemirror_mode": {
    "name": "ipython",
    "version": 3
   },
   "file_extension": ".py",
   "mimetype": "text/x-python",
   "name": "python",
   "nbconvert_exporter": "python",
   "pygments_lexer": "ipython3",
   "version": "3.9.13"
  },
  "orig_nbformat": 4
 },
 "nbformat": 4,
 "nbformat_minor": 2
}
